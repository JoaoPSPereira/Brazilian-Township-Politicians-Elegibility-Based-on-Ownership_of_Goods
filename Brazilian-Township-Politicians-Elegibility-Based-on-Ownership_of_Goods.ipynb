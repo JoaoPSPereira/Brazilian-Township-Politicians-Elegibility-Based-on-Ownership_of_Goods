{
 "cells": [
  {
   "cell_type": "markdown",
   "metadata": {},
   "source": [
    "## João Pedro Santos Pereira ADS-B 3º Semestre"
   ]
  },
  {
   "cell_type": "code",
   "execution_count": 1,
   "metadata": {},
   "outputs": [],
   "source": [
    "import warnings\n",
    "warnings.filterwarnings('ignore')\n",
    "\n",
    "import pandas as pd\n",
    "low_memory=False\n",
    "%matplotlib inline\n",
    "pd.options.display.max_columns= 100\n",
    "pd.options.display.max_rows=5"
   ]
  },
  {
   "cell_type": "code",
   "execution_count": 2,
   "metadata": {},
   "outputs": [],
   "source": [
    "file_candidates_BA = pd.read_csv(\"consulta_cand_2020_BA.csv\", sep=\";\", low_memory=False, error_bad_lines=False, encoding='latin-1')\n",
    "file_candidates_GO = pd.read_csv(\"consulta_cand_2020_GO.csv\", sep=\";\", low_memory=False, error_bad_lines=False, encoding='latin-1')\n",
    "file_candidates_SP = pd.read_csv(\"consulta_cand_2020_SP.csv\", sep=\";\", low_memory=False, error_bad_lines=False, encoding='latin-1')"
   ]
  },
  {
   "cell_type": "markdown",
   "metadata": {},
   "source": [
    "## -----------------------------------------------------------------------------------------------------------------------------\n",
    "                                  Candidates elected and their property in goods\n",
    "## -----------------------------------------------------------------------------------------------------------------------------"
   ]
  },
  {
   "cell_type": "code",
   "execution_count": 3,
   "metadata": {},
   "outputs": [
    {
     "data": {
      "text/plain": [
       "Index(['DT_GERACAO', 'HH_GERACAO', 'ANO_ELEICAO', 'CD_TIPO_ELEICAO',\n",
       "       'NM_TIPO_ELEICAO', 'NR_TURNO', 'CD_ELEICAO', 'DS_ELEICAO', 'DT_ELEICAO',\n",
       "       'TP_ABRANGENCIA', 'SG_UF', 'SG_UE', 'NM_UE', 'CD_CARGO', 'DS_CARGO',\n",
       "       'SQ_CANDIDATO', 'NR_CANDIDATO', 'NM_CANDIDATO', 'NM_URNA_CANDIDATO',\n",
       "       'NM_SOCIAL_CANDIDATO', 'NR_CPF_CANDIDATO', 'NM_EMAIL',\n",
       "       'CD_SITUACAO_CANDIDATURA', 'DS_SITUACAO_CANDIDATURA',\n",
       "       'CD_DETALHE_SITUACAO_CAND', 'DS_DETALHE_SITUACAO_CAND', 'TP_AGREMIACAO',\n",
       "       'NR_PARTIDO', 'SG_PARTIDO', 'NM_PARTIDO', 'SQ_COLIGACAO',\n",
       "       'NM_COLIGACAO', 'DS_COMPOSICAO_COLIGACAO', 'CD_NACIONALIDADE',\n",
       "       'DS_NACIONALIDADE', 'SG_UF_NASCIMENTO', 'CD_MUNICIPIO_NASCIMENTO',\n",
       "       'NM_MUNICIPIO_NASCIMENTO', 'DT_NASCIMENTO', 'NR_IDADE_DATA_POSSE',\n",
       "       'NR_TITULO_ELEITORAL_CANDIDATO', 'CD_GENERO', 'DS_GENERO',\n",
       "       'CD_GRAU_INSTRUCAO', 'DS_GRAU_INSTRUCAO', 'CD_ESTADO_CIVIL',\n",
       "       'DS_ESTADO_CIVIL', 'CD_COR_RACA', 'DS_COR_RACA', 'CD_OCUPACAO',\n",
       "       'DS_OCUPACAO', 'VR_DESPESA_MAX_CAMPANHA', 'CD_SIT_TOT_TURNO',\n",
       "       'DS_SIT_TOT_TURNO', 'ST_REELEICAO', 'ST_DECLARAR_BENS',\n",
       "       'NR_PROTOCOLO_CANDIDATURA', 'NR_PROCESSO',\n",
       "       'CD_SITUACAO_CANDIDATO_PLEITO', 'DS_SITUACAO_CANDIDATO_PLEITO',\n",
       "       'CD_SITUACAO_CANDIDATO_URNA', 'DS_SITUACAO_CANDIDATO_URNA',\n",
       "       'ST_CANDIDATO_INSERIDO_URNA'],\n",
       "      dtype='object')"
      ]
     },
     "execution_count": 3,
     "metadata": {},
     "output_type": "execute_result"
    }
   ],
   "source": [
    "file_candidates_SP.columns"
   ]
  },
  {
   "cell_type": "code",
   "execution_count": 4,
   "metadata": {},
   "outputs": [],
   "source": [
    "df_candidates_BA = file_candidates_BA[['SQ_CANDIDATO','CD_SIT_TOT_TURNO', 'ST_DECLARAR_BENS']]\n",
    "df_candidates_GO = file_candidates_GO[['SQ_CANDIDATO','CD_SIT_TOT_TURNO', 'ST_DECLARAR_BENS']]\n",
    "df_candidates_SP = file_candidates_SP[['SQ_CANDIDATO','CD_SIT_TOT_TURNO', 'ST_DECLARAR_BENS']]"
   ]
  },
  {
   "cell_type": "code",
   "execution_count": 5,
   "metadata": {},
   "outputs": [
    {
     "data": {
      "text/html": [
       "<div>\n",
       "<style scoped>\n",
       "    .dataframe tbody tr th:only-of-type {\n",
       "        vertical-align: middle;\n",
       "    }\n",
       "\n",
       "    .dataframe tbody tr th {\n",
       "        vertical-align: top;\n",
       "    }\n",
       "\n",
       "    .dataframe thead th {\n",
       "        text-align: right;\n",
       "    }\n",
       "</style>\n",
       "<table border=\"1\" class=\"dataframe\">\n",
       "  <thead>\n",
       "    <tr style=\"text-align: right;\">\n",
       "      <th></th>\n",
       "      <th>SQ_CANDIDATO</th>\n",
       "      <th>CD_SIT_TOT_TURNO</th>\n",
       "      <th>ST_DECLARAR_BENS</th>\n",
       "    </tr>\n",
       "  </thead>\n",
       "  <tbody>\n",
       "    <tr>\n",
       "      <th>0</th>\n",
       "      <td>50000830236</td>\n",
       "      <td>2</td>\n",
       "      <td>S</td>\n",
       "    </tr>\n",
       "    <tr>\n",
       "      <th>1</th>\n",
       "      <td>50001044928</td>\n",
       "      <td>2</td>\n",
       "      <td>S</td>\n",
       "    </tr>\n",
       "    <tr>\n",
       "      <th>...</th>\n",
       "      <td>...</td>\n",
       "      <td>...</td>\n",
       "      <td>...</td>\n",
       "    </tr>\n",
       "    <tr>\n",
       "      <th>41605</th>\n",
       "      <td>50000703152</td>\n",
       "      <td>2</td>\n",
       "      <td>S</td>\n",
       "    </tr>\n",
       "    <tr>\n",
       "      <th>41606</th>\n",
       "      <td>50001123385</td>\n",
       "      <td>2</td>\n",
       "      <td>S</td>\n",
       "    </tr>\n",
       "  </tbody>\n",
       "</table>\n",
       "<p>41607 rows × 3 columns</p>\n",
       "</div>"
      ],
      "text/plain": [
       "       SQ_CANDIDATO  CD_SIT_TOT_TURNO ST_DECLARAR_BENS\n",
       "0       50000830236                 2                S\n",
       "1       50001044928                 2                S\n",
       "...             ...               ...              ...\n",
       "41605   50000703152                 2                S\n",
       "41606   50001123385                 2                S\n",
       "\n",
       "[41607 rows x 3 columns]"
      ]
     },
     "execution_count": 5,
     "metadata": {},
     "output_type": "execute_result"
    }
   ],
   "source": [
    "df_candidates_BA"
   ]
  },
  {
   "cell_type": "code",
   "execution_count": 6,
   "metadata": {},
   "outputs": [
    {
     "data": {
      "text/html": [
       "<div>\n",
       "<style scoped>\n",
       "    .dataframe tbody tr th:only-of-type {\n",
       "        vertical-align: middle;\n",
       "    }\n",
       "\n",
       "    .dataframe tbody tr th {\n",
       "        vertical-align: top;\n",
       "    }\n",
       "\n",
       "    .dataframe thead th {\n",
       "        text-align: right;\n",
       "    }\n",
       "</style>\n",
       "<table border=\"1\" class=\"dataframe\">\n",
       "  <thead>\n",
       "    <tr style=\"text-align: right;\">\n",
       "      <th></th>\n",
       "      <th>SQ_CANDIDATO</th>\n",
       "      <th>CD_SIT_TOT_TURNO</th>\n",
       "      <th>ST_DECLARAR_BENS</th>\n",
       "    </tr>\n",
       "  </thead>\n",
       "  <tbody>\n",
       "    <tr>\n",
       "      <th>0</th>\n",
       "      <td>90001144849</td>\n",
       "      <td>-1</td>\n",
       "      <td>N</td>\n",
       "    </tr>\n",
       "    <tr>\n",
       "      <th>1</th>\n",
       "      <td>90000719924</td>\n",
       "      <td>-1</td>\n",
       "      <td>S</td>\n",
       "    </tr>\n",
       "    <tr>\n",
       "      <th>...</th>\n",
       "      <td>...</td>\n",
       "      <td>...</td>\n",
       "      <td>...</td>\n",
       "    </tr>\n",
       "    <tr>\n",
       "      <th>24935</th>\n",
       "      <td>90001027843</td>\n",
       "      <td>2</td>\n",
       "      <td>S</td>\n",
       "    </tr>\n",
       "    <tr>\n",
       "      <th>24936</th>\n",
       "      <td>90001026812</td>\n",
       "      <td>5</td>\n",
       "      <td>N</td>\n",
       "    </tr>\n",
       "  </tbody>\n",
       "</table>\n",
       "<p>24937 rows × 3 columns</p>\n",
       "</div>"
      ],
      "text/plain": [
       "       SQ_CANDIDATO  CD_SIT_TOT_TURNO ST_DECLARAR_BENS\n",
       "0       90001144849                -1                N\n",
       "1       90000719924                -1                S\n",
       "...             ...               ...              ...\n",
       "24935   90001027843                 2                S\n",
       "24936   90001026812                 5                N\n",
       "\n",
       "[24937 rows x 3 columns]"
      ]
     },
     "execution_count": 6,
     "metadata": {},
     "output_type": "execute_result"
    }
   ],
   "source": [
    "df_candidates_GO"
   ]
  },
  {
   "cell_type": "code",
   "execution_count": 7,
   "metadata": {},
   "outputs": [
    {
     "data": {
      "text/html": [
       "<div>\n",
       "<style scoped>\n",
       "    .dataframe tbody tr th:only-of-type {\n",
       "        vertical-align: middle;\n",
       "    }\n",
       "\n",
       "    .dataframe tbody tr th {\n",
       "        vertical-align: top;\n",
       "    }\n",
       "\n",
       "    .dataframe thead th {\n",
       "        text-align: right;\n",
       "    }\n",
       "</style>\n",
       "<table border=\"1\" class=\"dataframe\">\n",
       "  <thead>\n",
       "    <tr style=\"text-align: right;\">\n",
       "      <th></th>\n",
       "      <th>SQ_CANDIDATO</th>\n",
       "      <th>CD_SIT_TOT_TURNO</th>\n",
       "      <th>ST_DECLARAR_BENS</th>\n",
       "    </tr>\n",
       "  </thead>\n",
       "  <tbody>\n",
       "    <tr>\n",
       "      <th>0</th>\n",
       "      <td>250000898255</td>\n",
       "      <td>-1</td>\n",
       "      <td>S</td>\n",
       "    </tr>\n",
       "    <tr>\n",
       "      <th>1</th>\n",
       "      <td>250000764425</td>\n",
       "      <td>-1</td>\n",
       "      <td>S</td>\n",
       "    </tr>\n",
       "    <tr>\n",
       "      <th>...</th>\n",
       "      <td>...</td>\n",
       "      <td>...</td>\n",
       "      <td>...</td>\n",
       "    </tr>\n",
       "    <tr>\n",
       "      <th>93765</th>\n",
       "      <td>250001117295</td>\n",
       "      <td>4</td>\n",
       "      <td>S</td>\n",
       "    </tr>\n",
       "    <tr>\n",
       "      <th>93766</th>\n",
       "      <td>250000824829</td>\n",
       "      <td>5</td>\n",
       "      <td>S</td>\n",
       "    </tr>\n",
       "  </tbody>\n",
       "</table>\n",
       "<p>93767 rows × 3 columns</p>\n",
       "</div>"
      ],
      "text/plain": [
       "       SQ_CANDIDATO  CD_SIT_TOT_TURNO ST_DECLARAR_BENS\n",
       "0      250000898255                -1                S\n",
       "1      250000764425                -1                S\n",
       "...             ...               ...              ...\n",
       "93765  250001117295                 4                S\n",
       "93766  250000824829                 5                S\n",
       "\n",
       "[93767 rows x 3 columns]"
      ]
     },
     "execution_count": 7,
     "metadata": {},
     "output_type": "execute_result"
    }
   ],
   "source": [
    "df_candidates_SP"
   ]
  },
  {
   "cell_type": "code",
   "execution_count": 8,
   "metadata": {},
   "outputs": [],
   "source": [
    "df_candidates_BA = df_candidates_BA.query(\"1 <= CD_SIT_TOT_TURNO < 4\")\n",
    "df_candidates_GO = df_candidates_GO.query(\"1 <= CD_SIT_TOT_TURNO < 4\")\n",
    "df_candidates_SP = df_candidates_SP.query(\"1 <= CD_SIT_TOT_TURNO < 4\")"
   ]
  },
  {
   "cell_type": "code",
   "execution_count": 9,
   "metadata": {},
   "outputs": [],
   "source": [
    "df_candidates_BA = df_candidates_BA.query(\"ST_DECLARAR_BENS == 'S'\")\n",
    "df_candidates_GO = df_candidates_GO.query(\"ST_DECLARAR_BENS == 'S'\")\n",
    "df_candidates_SP = df_candidates_SP.query(\"ST_DECLARAR_BENS == 'S'\")"
   ]
  },
  {
   "cell_type": "code",
   "execution_count": 10,
   "metadata": {},
   "outputs": [
    {
     "data": {
      "text/html": [
       "<div>\n",
       "<style scoped>\n",
       "    .dataframe tbody tr th:only-of-type {\n",
       "        vertical-align: middle;\n",
       "    }\n",
       "\n",
       "    .dataframe tbody tr th {\n",
       "        vertical-align: top;\n",
       "    }\n",
       "\n",
       "    .dataframe thead th {\n",
       "        text-align: right;\n",
       "    }\n",
       "</style>\n",
       "<table border=\"1\" class=\"dataframe\">\n",
       "  <thead>\n",
       "    <tr style=\"text-align: right;\">\n",
       "      <th></th>\n",
       "      <th>SQ_CANDIDATO</th>\n",
       "      <th>CD_SIT_TOT_TURNO</th>\n",
       "      <th>ST_DECLARAR_BENS</th>\n",
       "    </tr>\n",
       "  </thead>\n",
       "  <tbody>\n",
       "    <tr>\n",
       "      <th>0</th>\n",
       "      <td>50000830236</td>\n",
       "      <td>2</td>\n",
       "      <td>S</td>\n",
       "    </tr>\n",
       "    <tr>\n",
       "      <th>1</th>\n",
       "      <td>50001044928</td>\n",
       "      <td>2</td>\n",
       "      <td>S</td>\n",
       "    </tr>\n",
       "    <tr>\n",
       "      <th>...</th>\n",
       "      <td>...</td>\n",
       "      <td>...</td>\n",
       "      <td>...</td>\n",
       "    </tr>\n",
       "    <tr>\n",
       "      <th>41605</th>\n",
       "      <td>50000703152</td>\n",
       "      <td>2</td>\n",
       "      <td>S</td>\n",
       "    </tr>\n",
       "    <tr>\n",
       "      <th>41606</th>\n",
       "      <td>50001123385</td>\n",
       "      <td>2</td>\n",
       "      <td>S</td>\n",
       "    </tr>\n",
       "  </tbody>\n",
       "</table>\n",
       "<p>4972 rows × 3 columns</p>\n",
       "</div>"
      ],
      "text/plain": [
       "       SQ_CANDIDATO  CD_SIT_TOT_TURNO ST_DECLARAR_BENS\n",
       "0       50000830236                 2                S\n",
       "1       50001044928                 2                S\n",
       "...             ...               ...              ...\n",
       "41605   50000703152                 2                S\n",
       "41606   50001123385                 2                S\n",
       "\n",
       "[4972 rows x 3 columns]"
      ]
     },
     "execution_count": 10,
     "metadata": {},
     "output_type": "execute_result"
    }
   ],
   "source": [
    "df_candidates_BA"
   ]
  },
  {
   "cell_type": "code",
   "execution_count": 11,
   "metadata": {},
   "outputs": [
    {
     "data": {
      "text/html": [
       "<div>\n",
       "<style scoped>\n",
       "    .dataframe tbody tr th:only-of-type {\n",
       "        vertical-align: middle;\n",
       "    }\n",
       "\n",
       "    .dataframe tbody tr th {\n",
       "        vertical-align: top;\n",
       "    }\n",
       "\n",
       "    .dataframe thead th {\n",
       "        text-align: right;\n",
       "    }\n",
       "</style>\n",
       "<table border=\"1\" class=\"dataframe\">\n",
       "  <thead>\n",
       "    <tr style=\"text-align: right;\">\n",
       "      <th></th>\n",
       "      <th>SQ_CANDIDATO</th>\n",
       "      <th>CD_SIT_TOT_TURNO</th>\n",
       "      <th>ST_DECLARAR_BENS</th>\n",
       "    </tr>\n",
       "  </thead>\n",
       "  <tbody>\n",
       "    <tr>\n",
       "      <th>8</th>\n",
       "      <td>90000679847</td>\n",
       "      <td>2</td>\n",
       "      <td>S</td>\n",
       "    </tr>\n",
       "    <tr>\n",
       "      <th>15</th>\n",
       "      <td>90000783717</td>\n",
       "      <td>2</td>\n",
       "      <td>S</td>\n",
       "    </tr>\n",
       "    <tr>\n",
       "      <th>...</th>\n",
       "      <td>...</td>\n",
       "      <td>...</td>\n",
       "      <td>...</td>\n",
       "    </tr>\n",
       "    <tr>\n",
       "      <th>24926</th>\n",
       "      <td>90000677016</td>\n",
       "      <td>3</td>\n",
       "      <td>S</td>\n",
       "    </tr>\n",
       "    <tr>\n",
       "      <th>24935</th>\n",
       "      <td>90001027843</td>\n",
       "      <td>2</td>\n",
       "      <td>S</td>\n",
       "    </tr>\n",
       "  </tbody>\n",
       "</table>\n",
       "<p>2661 rows × 3 columns</p>\n",
       "</div>"
      ],
      "text/plain": [
       "       SQ_CANDIDATO  CD_SIT_TOT_TURNO ST_DECLARAR_BENS\n",
       "8       90000679847                 2                S\n",
       "15      90000783717                 2                S\n",
       "...             ...               ...              ...\n",
       "24926   90000677016                 3                S\n",
       "24935   90001027843                 2                S\n",
       "\n",
       "[2661 rows x 3 columns]"
      ]
     },
     "execution_count": 11,
     "metadata": {},
     "output_type": "execute_result"
    }
   ],
   "source": [
    "df_candidates_GO"
   ]
  },
  {
   "cell_type": "code",
   "execution_count": 12,
   "metadata": {},
   "outputs": [
    {
     "data": {
      "text/html": [
       "<div>\n",
       "<style scoped>\n",
       "    .dataframe tbody tr th:only-of-type {\n",
       "        vertical-align: middle;\n",
       "    }\n",
       "\n",
       "    .dataframe tbody tr th {\n",
       "        vertical-align: top;\n",
       "    }\n",
       "\n",
       "    .dataframe thead th {\n",
       "        text-align: right;\n",
       "    }\n",
       "</style>\n",
       "<table border=\"1\" class=\"dataframe\">\n",
       "  <thead>\n",
       "    <tr style=\"text-align: right;\">\n",
       "      <th></th>\n",
       "      <th>SQ_CANDIDATO</th>\n",
       "      <th>CD_SIT_TOT_TURNO</th>\n",
       "      <th>ST_DECLARAR_BENS</th>\n",
       "    </tr>\n",
       "  </thead>\n",
       "  <tbody>\n",
       "    <tr>\n",
       "      <th>5</th>\n",
       "      <td>250000795233</td>\n",
       "      <td>3</td>\n",
       "      <td>S</td>\n",
       "    </tr>\n",
       "    <tr>\n",
       "      <th>10</th>\n",
       "      <td>250000797201</td>\n",
       "      <td>2</td>\n",
       "      <td>S</td>\n",
       "    </tr>\n",
       "    <tr>\n",
       "      <th>...</th>\n",
       "      <td>...</td>\n",
       "      <td>...</td>\n",
       "      <td>...</td>\n",
       "    </tr>\n",
       "    <tr>\n",
       "      <th>93763</th>\n",
       "      <td>250001254053</td>\n",
       "      <td>2</td>\n",
       "      <td>S</td>\n",
       "    </tr>\n",
       "    <tr>\n",
       "      <th>93764</th>\n",
       "      <td>250000941620</td>\n",
       "      <td>2</td>\n",
       "      <td>S</td>\n",
       "    </tr>\n",
       "  </tbody>\n",
       "</table>\n",
       "<p>7235 rows × 3 columns</p>\n",
       "</div>"
      ],
      "text/plain": [
       "       SQ_CANDIDATO  CD_SIT_TOT_TURNO ST_DECLARAR_BENS\n",
       "5      250000795233                 3                S\n",
       "10     250000797201                 2                S\n",
       "...             ...               ...              ...\n",
       "93763  250001254053                 2                S\n",
       "93764  250000941620                 2                S\n",
       "\n",
       "[7235 rows x 3 columns]"
      ]
     },
     "execution_count": 12,
     "metadata": {},
     "output_type": "execute_result"
    }
   ],
   "source": [
    "df_candidates_SP"
   ]
  },
  {
   "cell_type": "code",
   "execution_count": 13,
   "metadata": {},
   "outputs": [],
   "source": [
    "df_goods_BA = pd.read_csv(\"bem_candidato_2020_BA.csv\", sep=\";\", low_memory=False, error_bad_lines=False, encoding='latin-1')\n",
    "df_goods_GO = pd.read_csv(\"bem_candidato_2020_GO.csv\", sep=\";\", low_memory=False, error_bad_lines=False, encoding='latin-1')\n",
    "df_goods_SP = pd.read_csv(\"bem_candidato_2020_SP.csv\", sep=\";\", low_memory=False, error_bad_lines=False, encoding='latin-1')"
   ]
  },
  {
   "cell_type": "code",
   "execution_count": 14,
   "metadata": {},
   "outputs": [
    {
     "data": {
      "text/plain": [
       "Index(['DT_GERACAO', 'HH_GERACAO', 'ANO_ELEICAO', 'CD_TIPO_ELEICAO',\n",
       "       'NM_TIPO_ELEICAO', 'CD_ELEICAO', 'DS_ELEICAO', 'DT_ELEICAO', 'SG_UF',\n",
       "       'SG_UE', 'NM_UE', 'SQ_CANDIDATO', 'NR_ORDEM_CANDIDATO',\n",
       "       'CD_TIPO_BEM_CANDIDATO', 'DS_TIPO_BEM_CANDIDATO', 'DS_BEM_CANDIDATO',\n",
       "       'VR_BEM_CANDIDATO', 'DT_ULTIMA_ATUALIZACAO', 'HH_ULTIMA_ATUALIZACAO'],\n",
       "      dtype='object')"
      ]
     },
     "execution_count": 14,
     "metadata": {},
     "output_type": "execute_result"
    }
   ],
   "source": [
    "df_goods_BA.columns\n"
   ]
  },
  {
   "cell_type": "code",
   "execution_count": 15,
   "metadata": {},
   "outputs": [],
   "source": [
    "df_goods_BA = df_goods_BA[['SQ_CANDIDATO', 'VR_BEM_CANDIDATO']]"
   ]
  },
  {
   "cell_type": "code",
   "execution_count": 16,
   "metadata": {},
   "outputs": [],
   "source": [
    "df_goods_GO = df_goods_GO[['SQ_CANDIDATO', 'VR_BEM_CANDIDATO']]"
   ]
  },
  {
   "cell_type": "code",
   "execution_count": 17,
   "metadata": {},
   "outputs": [],
   "source": [
    "df_goods_SP = df_goods_SP[['SQ_CANDIDATO', 'VR_BEM_CANDIDATO']]"
   ]
  },
  {
   "cell_type": "code",
   "execution_count": 18,
   "metadata": {},
   "outputs": [],
   "source": [
    "df_goods_BA[\"VR_BEM_CANDIDATO\"] = df_goods_BA[\"VR_BEM_CANDIDATO\"].str.replace(r'\\D', '.').astype('float')\n",
    "df_goods_GO[\"VR_BEM_CANDIDATO\"] = df_goods_GO[\"VR_BEM_CANDIDATO\"].str.replace(r'\\D', '.').astype('float')\n",
    "df_goods_SP[\"VR_BEM_CANDIDATO\"] = df_goods_SP[\"VR_BEM_CANDIDATO\"].str.replace(r'\\D', '.').astype('float')"
   ]
  },
  {
   "cell_type": "code",
   "execution_count": 19,
   "metadata": {},
   "outputs": [],
   "source": [
    "df_goods_BA = df_goods_BA.groupby(\"SQ_CANDIDATO\").sum()\n",
    "df_goods_GO = df_goods_GO.groupby(\"SQ_CANDIDATO\").sum()\n",
    "df_goods_SP = df_goods_SP.groupby(\"SQ_CANDIDATO\").sum()"
   ]
  },
  {
   "cell_type": "code",
   "execution_count": 20,
   "metadata": {},
   "outputs": [
    {
     "data": {
      "text/html": [
       "<div>\n",
       "<style scoped>\n",
       "    .dataframe tbody tr th:only-of-type {\n",
       "        vertical-align: middle;\n",
       "    }\n",
       "\n",
       "    .dataframe tbody tr th {\n",
       "        vertical-align: top;\n",
       "    }\n",
       "\n",
       "    .dataframe thead th {\n",
       "        text-align: right;\n",
       "    }\n",
       "</style>\n",
       "<table border=\"1\" class=\"dataframe\">\n",
       "  <thead>\n",
       "    <tr style=\"text-align: right;\">\n",
       "      <th></th>\n",
       "      <th>VR_BEM_CANDIDATO</th>\n",
       "    </tr>\n",
       "    <tr>\n",
       "      <th>SQ_CANDIDATO</th>\n",
       "      <th></th>\n",
       "    </tr>\n",
       "  </thead>\n",
       "  <tbody>\n",
       "    <tr>\n",
       "      <th>50000631822</th>\n",
       "      <td>23000.0</td>\n",
       "    </tr>\n",
       "    <tr>\n",
       "      <th>50000631824</th>\n",
       "      <td>5000.0</td>\n",
       "    </tr>\n",
       "    <tr>\n",
       "      <th>...</th>\n",
       "      <td>...</td>\n",
       "    </tr>\n",
       "    <tr>\n",
       "      <th>50001278264</th>\n",
       "      <td>6000.0</td>\n",
       "    </tr>\n",
       "    <tr>\n",
       "      <th>50001280673</th>\n",
       "      <td>80000.0</td>\n",
       "    </tr>\n",
       "  </tbody>\n",
       "</table>\n",
       "<p>23782 rows × 1 columns</p>\n",
       "</div>"
      ],
      "text/plain": [
       "              VR_BEM_CANDIDATO\n",
       "SQ_CANDIDATO                  \n",
       "50000631822            23000.0\n",
       "50000631824             5000.0\n",
       "...                        ...\n",
       "50001278264             6000.0\n",
       "50001280673            80000.0\n",
       "\n",
       "[23782 rows x 1 columns]"
      ]
     },
     "execution_count": 20,
     "metadata": {},
     "output_type": "execute_result"
    }
   ],
   "source": [
    "df_goods_BA"
   ]
  },
  {
   "cell_type": "code",
   "execution_count": 21,
   "metadata": {},
   "outputs": [
    {
     "data": {
      "text/html": [
       "<div>\n",
       "<style scoped>\n",
       "    .dataframe tbody tr th:only-of-type {\n",
       "        vertical-align: middle;\n",
       "    }\n",
       "\n",
       "    .dataframe tbody tr th {\n",
       "        vertical-align: top;\n",
       "    }\n",
       "\n",
       "    .dataframe thead th {\n",
       "        text-align: right;\n",
       "    }\n",
       "</style>\n",
       "<table border=\"1\" class=\"dataframe\">\n",
       "  <thead>\n",
       "    <tr style=\"text-align: right;\">\n",
       "      <th></th>\n",
       "      <th>VR_BEM_CANDIDATO</th>\n",
       "    </tr>\n",
       "    <tr>\n",
       "      <th>SQ_CANDIDATO</th>\n",
       "      <th></th>\n",
       "    </tr>\n",
       "  </thead>\n",
       "  <tbody>\n",
       "    <tr>\n",
       "      <th>90000631793</th>\n",
       "      <td>17000.00</td>\n",
       "    </tr>\n",
       "    <tr>\n",
       "      <th>90000631820</th>\n",
       "      <td>114720.01</td>\n",
       "    </tr>\n",
       "    <tr>\n",
       "      <th>...</th>\n",
       "      <td>...</td>\n",
       "    </tr>\n",
       "    <tr>\n",
       "      <th>90001278823</th>\n",
       "      <td>922271.88</td>\n",
       "    </tr>\n",
       "    <tr>\n",
       "      <th>90001281616</th>\n",
       "      <td>321000.00</td>\n",
       "    </tr>\n",
       "  </tbody>\n",
       "</table>\n",
       "<p>16617 rows × 1 columns</p>\n",
       "</div>"
      ],
      "text/plain": [
       "              VR_BEM_CANDIDATO\n",
       "SQ_CANDIDATO                  \n",
       "90000631793           17000.00\n",
       "90000631820          114720.01\n",
       "...                        ...\n",
       "90001278823          922271.88\n",
       "90001281616          321000.00\n",
       "\n",
       "[16617 rows x 1 columns]"
      ]
     },
     "execution_count": 21,
     "metadata": {},
     "output_type": "execute_result"
    }
   ],
   "source": [
    "df_goods_GO"
   ]
  },
  {
   "cell_type": "code",
   "execution_count": 22,
   "metadata": {},
   "outputs": [
    {
     "data": {
      "text/html": [
       "<div>\n",
       "<style scoped>\n",
       "    .dataframe tbody tr th:only-of-type {\n",
       "        vertical-align: middle;\n",
       "    }\n",
       "\n",
       "    .dataframe tbody tr th {\n",
       "        vertical-align: top;\n",
       "    }\n",
       "\n",
       "    .dataframe thead th {\n",
       "        text-align: right;\n",
       "    }\n",
       "</style>\n",
       "<table border=\"1\" class=\"dataframe\">\n",
       "  <thead>\n",
       "    <tr style=\"text-align: right;\">\n",
       "      <th></th>\n",
       "      <th>VR_BEM_CANDIDATO</th>\n",
       "    </tr>\n",
       "    <tr>\n",
       "      <th>SQ_CANDIDATO</th>\n",
       "      <th></th>\n",
       "    </tr>\n",
       "  </thead>\n",
       "  <tbody>\n",
       "    <tr>\n",
       "      <th>250000631783</th>\n",
       "      <td>40000.00</td>\n",
       "    </tr>\n",
       "    <tr>\n",
       "      <th>250000631784</th>\n",
       "      <td>1129758.00</td>\n",
       "    </tr>\n",
       "    <tr>\n",
       "      <th>...</th>\n",
       "      <td>...</td>\n",
       "    </tr>\n",
       "    <tr>\n",
       "      <th>250001282301</th>\n",
       "      <td>37000.00</td>\n",
       "    </tr>\n",
       "    <tr>\n",
       "      <th>250001282532</th>\n",
       "      <td>651505.65</td>\n",
       "    </tr>\n",
       "  </tbody>\n",
       "</table>\n",
       "<p>56357 rows × 1 columns</p>\n",
       "</div>"
      ],
      "text/plain": [
       "              VR_BEM_CANDIDATO\n",
       "SQ_CANDIDATO                  \n",
       "250000631783          40000.00\n",
       "250000631784        1129758.00\n",
       "...                        ...\n",
       "250001282301          37000.00\n",
       "250001282532         651505.65\n",
       "\n",
       "[56357 rows x 1 columns]"
      ]
     },
     "execution_count": 22,
     "metadata": {},
     "output_type": "execute_result"
    }
   ],
   "source": [
    "df_goods_SP"
   ]
  },
  {
   "cell_type": "code",
   "execution_count": 23,
   "metadata": {},
   "outputs": [],
   "source": [
    "df_goods_electeds_BA = df_goods_BA[df_goods_BA.index.isin(df_candidates_BA.SQ_CANDIDATO)]\n",
    "df_goods_electeds_GO = df_goods_GO[df_goods_GO.index.isin(df_candidates_GO.SQ_CANDIDATO)]\n",
    "df_goods_electeds_SP = df_goods_SP[df_goods_SP.index.isin(df_candidates_SP.SQ_CANDIDATO)]"
   ]
  },
  {
   "cell_type": "code",
   "execution_count": 24,
   "metadata": {},
   "outputs": [
    {
     "data": {
      "text/html": [
       "<div>\n",
       "<style scoped>\n",
       "    .dataframe tbody tr th:only-of-type {\n",
       "        vertical-align: middle;\n",
       "    }\n",
       "\n",
       "    .dataframe tbody tr th {\n",
       "        vertical-align: top;\n",
       "    }\n",
       "\n",
       "    .dataframe thead th {\n",
       "        text-align: right;\n",
       "    }\n",
       "</style>\n",
       "<table border=\"1\" class=\"dataframe\">\n",
       "  <thead>\n",
       "    <tr style=\"text-align: right;\">\n",
       "      <th></th>\n",
       "      <th>VR_BEM_CANDIDATO</th>\n",
       "    </tr>\n",
       "    <tr>\n",
       "      <th>SQ_CANDIDATO</th>\n",
       "      <th></th>\n",
       "    </tr>\n",
       "  </thead>\n",
       "  <tbody>\n",
       "    <tr>\n",
       "      <th>50000631937</th>\n",
       "      <td>409000.0</td>\n",
       "    </tr>\n",
       "    <tr>\n",
       "      <th>50000631938</th>\n",
       "      <td>310000.0</td>\n",
       "    </tr>\n",
       "    <tr>\n",
       "      <th>...</th>\n",
       "      <td>...</td>\n",
       "    </tr>\n",
       "    <tr>\n",
       "      <th>50001274553</th>\n",
       "      <td>59433.4</td>\n",
       "    </tr>\n",
       "    <tr>\n",
       "      <th>50001278264</th>\n",
       "      <td>6000.0</td>\n",
       "    </tr>\n",
       "  </tbody>\n",
       "</table>\n",
       "<p>4248 rows × 1 columns</p>\n",
       "</div>"
      ],
      "text/plain": [
       "              VR_BEM_CANDIDATO\n",
       "SQ_CANDIDATO                  \n",
       "50000631937           409000.0\n",
       "50000631938           310000.0\n",
       "...                        ...\n",
       "50001274553            59433.4\n",
       "50001278264             6000.0\n",
       "\n",
       "[4248 rows x 1 columns]"
      ]
     },
     "execution_count": 24,
     "metadata": {},
     "output_type": "execute_result"
    }
   ],
   "source": [
    "df_goods_electeds_BA"
   ]
  },
  {
   "cell_type": "code",
   "execution_count": 25,
   "metadata": {},
   "outputs": [
    {
     "data": {
      "text/html": [
       "<div>\n",
       "<style scoped>\n",
       "    .dataframe tbody tr th:only-of-type {\n",
       "        vertical-align: middle;\n",
       "    }\n",
       "\n",
       "    .dataframe tbody tr th {\n",
       "        vertical-align: top;\n",
       "    }\n",
       "\n",
       "    .dataframe thead th {\n",
       "        text-align: right;\n",
       "    }\n",
       "</style>\n",
       "<table border=\"1\" class=\"dataframe\">\n",
       "  <thead>\n",
       "    <tr style=\"text-align: right;\">\n",
       "      <th></th>\n",
       "      <th>VR_BEM_CANDIDATO</th>\n",
       "    </tr>\n",
       "    <tr>\n",
       "      <th>SQ_CANDIDATO</th>\n",
       "      <th></th>\n",
       "    </tr>\n",
       "  </thead>\n",
       "  <tbody>\n",
       "    <tr>\n",
       "      <th>90000631793</th>\n",
       "      <td>17000.0</td>\n",
       "    </tr>\n",
       "    <tr>\n",
       "      <th>90000635328</th>\n",
       "      <td>250000.0</td>\n",
       "    </tr>\n",
       "    <tr>\n",
       "      <th>...</th>\n",
       "      <td>...</td>\n",
       "    </tr>\n",
       "    <tr>\n",
       "      <th>90001275364</th>\n",
       "      <td>444500.0</td>\n",
       "    </tr>\n",
       "    <tr>\n",
       "      <th>90001281616</th>\n",
       "      <td>321000.0</td>\n",
       "    </tr>\n",
       "  </tbody>\n",
       "</table>\n",
       "<p>2347 rows × 1 columns</p>\n",
       "</div>"
      ],
      "text/plain": [
       "              VR_BEM_CANDIDATO\n",
       "SQ_CANDIDATO                  \n",
       "90000631793            17000.0\n",
       "90000635328           250000.0\n",
       "...                        ...\n",
       "90001275364           444500.0\n",
       "90001281616           321000.0\n",
       "\n",
       "[2347 rows x 1 columns]"
      ]
     },
     "execution_count": 25,
     "metadata": {},
     "output_type": "execute_result"
    }
   ],
   "source": [
    "df_goods_electeds_GO"
   ]
  },
  {
   "cell_type": "code",
   "execution_count": 26,
   "metadata": {},
   "outputs": [
    {
     "data": {
      "text/html": [
       "<div>\n",
       "<style scoped>\n",
       "    .dataframe tbody tr th:only-of-type {\n",
       "        vertical-align: middle;\n",
       "    }\n",
       "\n",
       "    .dataframe tbody tr th {\n",
       "        vertical-align: top;\n",
       "    }\n",
       "\n",
       "    .dataframe thead th {\n",
       "        text-align: right;\n",
       "    }\n",
       "</style>\n",
       "<table border=\"1\" class=\"dataframe\">\n",
       "  <thead>\n",
       "    <tr style=\"text-align: right;\">\n",
       "      <th></th>\n",
       "      <th>VR_BEM_CANDIDATO</th>\n",
       "    </tr>\n",
       "    <tr>\n",
       "      <th>SQ_CANDIDATO</th>\n",
       "      <th></th>\n",
       "    </tr>\n",
       "  </thead>\n",
       "  <tbody>\n",
       "    <tr>\n",
       "      <th>250000632000</th>\n",
       "      <td>997500.00</td>\n",
       "    </tr>\n",
       "    <tr>\n",
       "      <th>250000632001</th>\n",
       "      <td>2707538.02</td>\n",
       "    </tr>\n",
       "    <tr>\n",
       "      <th>...</th>\n",
       "      <td>...</td>\n",
       "    </tr>\n",
       "    <tr>\n",
       "      <th>250001275760</th>\n",
       "      <td>5686039.07</td>\n",
       "    </tr>\n",
       "    <tr>\n",
       "      <th>250001278268</th>\n",
       "      <td>3000.00</td>\n",
       "    </tr>\n",
       "  </tbody>\n",
       "</table>\n",
       "<p>6384 rows × 1 columns</p>\n",
       "</div>"
      ],
      "text/plain": [
       "              VR_BEM_CANDIDATO\n",
       "SQ_CANDIDATO                  \n",
       "250000632000         997500.00\n",
       "250000632001        2707538.02\n",
       "...                        ...\n",
       "250001275760        5686039.07\n",
       "250001278268           3000.00\n",
       "\n",
       "[6384 rows x 1 columns]"
      ]
     },
     "execution_count": 26,
     "metadata": {},
     "output_type": "execute_result"
    }
   ],
   "source": [
    "df_goods_electeds_SP"
   ]
  },
  {
   "cell_type": "code",
   "execution_count": 27,
   "metadata": {
    "scrolled": true
   },
   "outputs": [
    {
     "data": {
      "text/html": [
       "<div>\n",
       "<style scoped>\n",
       "    .dataframe tbody tr th:only-of-type {\n",
       "        vertical-align: middle;\n",
       "    }\n",
       "\n",
       "    .dataframe tbody tr th {\n",
       "        vertical-align: top;\n",
       "    }\n",
       "\n",
       "    .dataframe thead th {\n",
       "        text-align: right;\n",
       "    }\n",
       "</style>\n",
       "<table border=\"1\" class=\"dataframe\">\n",
       "  <thead>\n",
       "    <tr style=\"text-align: right;\">\n",
       "      <th></th>\n",
       "      <th>BA</th>\n",
       "      <th>GO</th>\n",
       "      <th>SP</th>\n",
       "    </tr>\n",
       "  </thead>\n",
       "  <tbody>\n",
       "    <tr>\n",
       "      <th>10000</th>\n",
       "      <td>317</td>\n",
       "      <td>174</td>\n",
       "      <td>452</td>\n",
       "    </tr>\n",
       "    <tr>\n",
       "      <th>100000</th>\n",
       "      <td>1641</td>\n",
       "      <td>699</td>\n",
       "      <td>2153</td>\n",
       "    </tr>\n",
       "    <tr>\n",
       "      <th>1000000</th>\n",
       "      <td>2182</td>\n",
       "      <td>1307</td>\n",
       "      <td>3450</td>\n",
       "    </tr>\n",
       "    <tr>\n",
       "      <th>10000000</th>\n",
       "      <td>200</td>\n",
       "      <td>203</td>\n",
       "      <td>405</td>\n",
       "    </tr>\n",
       "    <tr>\n",
       "      <th>100000000</th>\n",
       "      <td>6</td>\n",
       "      <td>12</td>\n",
       "      <td>14</td>\n",
       "    </tr>\n",
       "  </tbody>\n",
       "</table>\n",
       "</div>"
      ],
      "text/plain": [
       "             BA    GO    SP\n",
       "10000       317   174   452\n",
       "100000     1641   699  2153\n",
       "1000000    2182  1307  3450\n",
       "10000000    200   203   405\n",
       "100000000     6    12    14"
      ]
     },
     "execution_count": 27,
     "metadata": {},
     "output_type": "execute_result"
    }
   ],
   "source": [
    "BA_4x0 = df_goods_electeds_BA[df_goods_electeds_BA.VR_BEM_CANDIDATO <= 10000.0].values.tolist()\n",
    "BA_5x0 = df_goods_electeds_BA.query(\"10000 <= VR_BEM_CANDIDATO <= 100000.0\").values.tolist()\n",
    "BA_6x0 = df_goods_electeds_BA.query(\"100000 <= VR_BEM_CANDIDATO <= 1000000.0\").values.tolist()\n",
    "BA_7x0 = df_goods_electeds_BA.query(\"1000000 <= VR_BEM_CANDIDATO <= 10000000.0\").values.tolist()\n",
    "BA_8x0 = df_goods_electeds_BA.query(\"10000000 <= VR_BEM_CANDIDATO <= 100000000.0\").values.tolist()\n",
    "\n",
    "GO_4x0 = df_goods_electeds_GO[df_goods_electeds_GO.VR_BEM_CANDIDATO <= 10000.0].values.tolist()\n",
    "GO_5x0 = df_goods_electeds_GO.query(\"10000 <= VR_BEM_CANDIDATO <= 100000.0\").values.tolist()\n",
    "GO_6x0 = df_goods_electeds_GO.query(\"100000 <= VR_BEM_CANDIDATO <= 1000000.0\").values.tolist()\n",
    "GO_7x0 = df_goods_electeds_GO.query(\"1000000 <= VR_BEM_CANDIDATO <= 10000000.0\").values.tolist()\n",
    "GO_8x0 = df_goods_electeds_GO.query(\"10000000 <= VR_BEM_CANDIDATO <= 100000000.0\").values.tolist()\n",
    "\n",
    "SP_4x0 = df_goods_electeds_SP[df_goods_electeds_SP.VR_BEM_CANDIDATO <= 10000.0].values.tolist()\n",
    "SP_5x0 = df_goods_electeds_SP.query(\"10000 <= VR_BEM_CANDIDATO <= 100000.0\").values.tolist()\n",
    "SP_6x0 = df_goods_electeds_SP.query(\"100000 <= VR_BEM_CANDIDATO <= 1000000.0\").values.tolist()\n",
    "SP_7x0 = df_goods_electeds_SP.query(\"1000000 <= VR_BEM_CANDIDATO <= 10000000.0\").values.tolist()\n",
    "SP_8x0 = df_goods_electeds_SP.query(\"10000000 <= VR_BEM_CANDIDATO <= 100000000.0\").values.tolist()\n",
    "\n",
    "graph_BA = [len(BA_4x0), len(BA_5x0), len(BA_6x0), len(BA_7x0), len(BA_8x0)]\n",
    "graph_GO = [len(GO_4x0), len(GO_5x0), len(GO_6x0), len(GO_7x0), len(GO_8x0)]\n",
    "graph_SP = [len(SP_4x0), len(SP_5x0), len(SP_6x0), len(SP_7x0), len(SP_8x0)]\n",
    "\n",
    "df_graph = pd.DataFrame({'BA': graph_BA, 'GO': graph_GO, 'SP': graph_SP}, \n",
    "                      index=['10000','100000','1000000', '10000000', '100000000'])\n",
    "df_graph"
   ]
  },
  {
   "cell_type": "code",
   "execution_count": 28,
   "metadata": {},
   "outputs": [
    {
     "data": {
      "image/png": "[encoded data removed]",
      "text/plain": [
       "<Figure size 864x432 with 1 Axes>"
      ]
     },
     "metadata": {
      "needs_background": "light"
     },
     "output_type": "display_data"
    }
   ],
   "source": [
    "ax = df_graph.plot.line(rot=0, figsize=(12,6))\n",
    "ax.set_xlabel('Property in goods (BRL)')\n",
    "ax.set_title('''Candidates elected and their property in goods''', fontsize=18)\n",
    "ax.grid(linestyle=':', linewidth='0.5', color='black')\n",
    "ax.xaxis.grid()"
   ]
  },
  {
   "cell_type": "code",
   "execution_count": 29,
   "metadata": {},
   "outputs": [],
   "source": [
    "df_goods_nonelecteds_BA = df_goods_BA[~df_goods_BA.index.isin(df_candidates_BA.SQ_CANDIDATO)]\n",
    "df_goods_nonelecteds_GO = df_goods_GO[~df_goods_GO.index.isin(df_candidates_GO.SQ_CANDIDATO)]\n",
    "df_goods_nonelecteds_SP = df_goods_SP[~df_goods_SP.index.isin(df_candidates_SP.SQ_CANDIDATO)]"
   ]
  },
  {
   "cell_type": "code",
   "execution_count": 30,
   "metadata": {},
   "outputs": [
    {
     "data": {
      "text/html": [
       "<div>\n",
       "<style scoped>\n",
       "    .dataframe tbody tr th:only-of-type {\n",
       "        vertical-align: middle;\n",
       "    }\n",
       "\n",
       "    .dataframe tbody tr th {\n",
       "        vertical-align: top;\n",
       "    }\n",
       "\n",
       "    .dataframe thead th {\n",
       "        text-align: right;\n",
       "    }\n",
       "</style>\n",
       "<table border=\"1\" class=\"dataframe\">\n",
       "  <thead>\n",
       "    <tr style=\"text-align: right;\">\n",
       "      <th></th>\n",
       "      <th>VR_BEM_CANDIDATO</th>\n",
       "    </tr>\n",
       "    <tr>\n",
       "      <th>SQ_CANDIDATO</th>\n",
       "      <th></th>\n",
       "    </tr>\n",
       "  </thead>\n",
       "  <tbody>\n",
       "    <tr>\n",
       "      <th>50000631822</th>\n",
       "      <td>23000.0</td>\n",
       "    </tr>\n",
       "    <tr>\n",
       "      <th>50000631824</th>\n",
       "      <td>5000.0</td>\n",
       "    </tr>\n",
       "    <tr>\n",
       "      <th>...</th>\n",
       "      <td>...</td>\n",
       "    </tr>\n",
       "    <tr>\n",
       "      <th>50001277818</th>\n",
       "      <td>1320000.0</td>\n",
       "    </tr>\n",
       "    <tr>\n",
       "      <th>50001280673</th>\n",
       "      <td>80000.0</td>\n",
       "    </tr>\n",
       "  </tbody>\n",
       "</table>\n",
       "<p>19534 rows × 1 columns</p>\n",
       "</div>"
      ],
      "text/plain": [
       "              VR_BEM_CANDIDATO\n",
       "SQ_CANDIDATO                  \n",
       "50000631822            23000.0\n",
       "50000631824             5000.0\n",
       "...                        ...\n",
       "50001277818          1320000.0\n",
       "50001280673            80000.0\n",
       "\n",
       "[19534 rows x 1 columns]"
      ]
     },
     "execution_count": 30,
     "metadata": {},
     "output_type": "execute_result"
    }
   ],
   "source": [
    "df_goods_nonelecteds_BA"
   ]
  },
  {
   "cell_type": "code",
   "execution_count": 31,
   "metadata": {},
   "outputs": [
    {
     "data": {
      "text/html": [
       "<div>\n",
       "<style scoped>\n",
       "    .dataframe tbody tr th:only-of-type {\n",
       "        vertical-align: middle;\n",
       "    }\n",
       "\n",
       "    .dataframe tbody tr th {\n",
       "        vertical-align: top;\n",
       "    }\n",
       "\n",
       "    .dataframe thead th {\n",
       "        text-align: right;\n",
       "    }\n",
       "</style>\n",
       "<table border=\"1\" class=\"dataframe\">\n",
       "  <thead>\n",
       "    <tr style=\"text-align: right;\">\n",
       "      <th></th>\n",
       "      <th>VR_BEM_CANDIDATO</th>\n",
       "    </tr>\n",
       "    <tr>\n",
       "      <th>SQ_CANDIDATO</th>\n",
       "      <th></th>\n",
       "    </tr>\n",
       "  </thead>\n",
       "  <tbody>\n",
       "    <tr>\n",
       "      <th>90000631820</th>\n",
       "      <td>114720.01</td>\n",
       "    </tr>\n",
       "    <tr>\n",
       "      <th>90000631821</th>\n",
       "      <td>87500.00</td>\n",
       "    </tr>\n",
       "    <tr>\n",
       "      <th>...</th>\n",
       "      <td>...</td>\n",
       "    </tr>\n",
       "    <tr>\n",
       "      <th>90001275320</th>\n",
       "      <td>150000.00</td>\n",
       "    </tr>\n",
       "    <tr>\n",
       "      <th>90001278823</th>\n",
       "      <td>922271.88</td>\n",
       "    </tr>\n",
       "  </tbody>\n",
       "</table>\n",
       "<p>14270 rows × 1 columns</p>\n",
       "</div>"
      ],
      "text/plain": [
       "              VR_BEM_CANDIDATO\n",
       "SQ_CANDIDATO                  \n",
       "90000631820          114720.01\n",
       "90000631821           87500.00\n",
       "...                        ...\n",
       "90001275320          150000.00\n",
       "90001278823          922271.88\n",
       "\n",
       "[14270 rows x 1 columns]"
      ]
     },
     "execution_count": 31,
     "metadata": {},
     "output_type": "execute_result"
    }
   ],
   "source": [
    "df_goods_nonelecteds_GO"
   ]
  },
  {
   "cell_type": "code",
   "execution_count": 32,
   "metadata": {},
   "outputs": [
    {
     "data": {
      "text/html": [
       "<div>\n",
       "<style scoped>\n",
       "    .dataframe tbody tr th:only-of-type {\n",
       "        vertical-align: middle;\n",
       "    }\n",
       "\n",
       "    .dataframe tbody tr th {\n",
       "        vertical-align: top;\n",
       "    }\n",
       "\n",
       "    .dataframe thead th {\n",
       "        text-align: right;\n",
       "    }\n",
       "</style>\n",
       "<table border=\"1\" class=\"dataframe\">\n",
       "  <thead>\n",
       "    <tr style=\"text-align: right;\">\n",
       "      <th></th>\n",
       "      <th>VR_BEM_CANDIDATO</th>\n",
       "    </tr>\n",
       "    <tr>\n",
       "      <th>SQ_CANDIDATO</th>\n",
       "      <th></th>\n",
       "    </tr>\n",
       "  </thead>\n",
       "  <tbody>\n",
       "    <tr>\n",
       "      <th>250000631783</th>\n",
       "      <td>40000.00</td>\n",
       "    </tr>\n",
       "    <tr>\n",
       "      <th>250000631784</th>\n",
       "      <td>1129758.00</td>\n",
       "    </tr>\n",
       "    <tr>\n",
       "      <th>...</th>\n",
       "      <td>...</td>\n",
       "    </tr>\n",
       "    <tr>\n",
       "      <th>250001282301</th>\n",
       "      <td>37000.00</td>\n",
       "    </tr>\n",
       "    <tr>\n",
       "      <th>250001282532</th>\n",
       "      <td>651505.65</td>\n",
       "    </tr>\n",
       "  </tbody>\n",
       "</table>\n",
       "<p>49973 rows × 1 columns</p>\n",
       "</div>"
      ],
      "text/plain": [
       "              VR_BEM_CANDIDATO\n",
       "SQ_CANDIDATO                  \n",
       "250000631783          40000.00\n",
       "250000631784        1129758.00\n",
       "...                        ...\n",
       "250001282301          37000.00\n",
       "250001282532         651505.65\n",
       "\n",
       "[49973 rows x 1 columns]"
      ]
     },
     "execution_count": 32,
     "metadata": {},
     "output_type": "execute_result"
    }
   ],
   "source": [
    "df_goods_nonelecteds_SP"
   ]
  },
  {
   "cell_type": "code",
   "execution_count": 33,
   "metadata": {},
   "outputs": [
    {
     "data": {
      "text/html": [
       "<div>\n",
       "<style scoped>\n",
       "    .dataframe tbody tr th:only-of-type {\n",
       "        vertical-align: middle;\n",
       "    }\n",
       "\n",
       "    .dataframe tbody tr th {\n",
       "        vertical-align: top;\n",
       "    }\n",
       "\n",
       "    .dataframe thead th {\n",
       "        text-align: right;\n",
       "    }\n",
       "</style>\n",
       "<table border=\"1\" class=\"dataframe\">\n",
       "  <thead>\n",
       "    <tr style=\"text-align: right;\">\n",
       "      <th></th>\n",
       "      <th>BA</th>\n",
       "      <th>GO</th>\n",
       "      <th>SP</th>\n",
       "    </tr>\n",
       "  </thead>\n",
       "  <tbody>\n",
       "    <tr>\n",
       "      <th>10000</th>\n",
       "      <td>3479</td>\n",
       "      <td>2340</td>\n",
       "      <td>7106</td>\n",
       "    </tr>\n",
       "    <tr>\n",
       "      <th>100000</th>\n",
       "      <td>9305</td>\n",
       "      <td>5314</td>\n",
       "      <td>18813</td>\n",
       "    </tr>\n",
       "    <tr>\n",
       "      <th>1000000</th>\n",
       "      <td>6970</td>\n",
       "      <td>6400</td>\n",
       "      <td>23427</td>\n",
       "    </tr>\n",
       "    <tr>\n",
       "      <th>10000000</th>\n",
       "      <td>474</td>\n",
       "      <td>620</td>\n",
       "      <td>1904</td>\n",
       "    </tr>\n",
       "    <tr>\n",
       "      <th>100000000</th>\n",
       "      <td>13</td>\n",
       "      <td>35</td>\n",
       "      <td>50</td>\n",
       "    </tr>\n",
       "  </tbody>\n",
       "</table>\n",
       "</div>"
      ],
      "text/plain": [
       "             BA    GO     SP\n",
       "10000      3479  2340   7106\n",
       "100000     9305  5314  18813\n",
       "1000000    6970  6400  23427\n",
       "10000000    474   620   1904\n",
       "100000000    13    35     50"
      ]
     },
     "execution_count": 33,
     "metadata": {},
     "output_type": "execute_result"
    }
   ],
   "source": [
    "BA_4x0 = df_goods_nonelecteds_BA[df_goods_nonelecteds_BA.VR_BEM_CANDIDATO <= 10000.0].values.tolist()\n",
    "BA_5x0 = df_goods_nonelecteds_BA.query(\"10000 <= VR_BEM_CANDIDATO <= 100000.0\").values.tolist()\n",
    "BA_6x0 = df_goods_nonelecteds_BA.query(\"100000 <= VR_BEM_CANDIDATO <= 1000000.0\").values.tolist()\n",
    "BA_7x0 = df_goods_nonelecteds_BA.query(\"1000000 <= VR_BEM_CANDIDATO <= 10000000.0\").values.tolist()\n",
    "BA_8x0 = df_goods_nonelecteds_BA.query(\"10000000 <= VR_BEM_CANDIDATO <= 100000000.0\").values.tolist()\n",
    "\n",
    "GO_4x0 = df_goods_nonelecteds_GO[df_goods_nonelecteds_GO.VR_BEM_CANDIDATO <= 10000.0].values.tolist()\n",
    "GO_5x0 = df_goods_nonelecteds_GO.query(\"10000 <= VR_BEM_CANDIDATO <= 100000.0\").values.tolist()\n",
    "GO_6x0 = df_goods_nonelecteds_GO.query(\"100000 <= VR_BEM_CANDIDATO <= 1000000.0\").values.tolist()\n",
    "GO_7x0 = df_goods_nonelecteds_GO.query(\"1000000 <= VR_BEM_CANDIDATO <= 10000000.0\").values.tolist()\n",
    "GO_8x0 = df_goods_nonelecteds_GO.query(\"10000000 <= VR_BEM_CANDIDATO <= 100000000.0\").values.tolist()\n",
    "\n",
    "SP_4x0 = df_goods_nonelecteds_SP[df_goods_nonelecteds_SP.VR_BEM_CANDIDATO <= 10000.0].values.tolist()\n",
    "SP_5x0 = df_goods_nonelecteds_SP.query(\"10000 <= VR_BEM_CANDIDATO <= 100000.0\").values.tolist()\n",
    "SP_6x0 = df_goods_nonelecteds_SP.query(\"100000 <= VR_BEM_CANDIDATO <= 1000000.0\").values.tolist()\n",
    "SP_7x0 = df_goods_nonelecteds_SP.query(\"1000000 <= VR_BEM_CANDIDATO <= 10000000.0\").values.tolist()\n",
    "SP_8x0 = df_goods_nonelecteds_SP.query(\"10000000 <= VR_BEM_CANDIDATO <= 100000000.0\").values.tolist()\n",
    "\n",
    "graph_BA = [len(BA_4x0), len(BA_5x0), len(BA_6x0), len(BA_7x0), len(BA_8x0)]\n",
    "graph_GO = [len(GO_4x0), len(GO_5x0), len(GO_6x0), len(GO_7x0), len(GO_8x0)]\n",
    "graph_SP = [len(SP_4x0), len(SP_5x0), len(SP_6x0), len(SP_7x0), len(SP_8x0)]\n",
    "\n",
    "df_graph = pd.DataFrame({'BA': graph_BA, 'GO': graph_GO, 'SP': graph_SP}, \n",
    "                      index=['10000','100000','1000000', '10000000', '100000000'])\n",
    "df_graph"
   ]
  },
  {
   "cell_type": "code",
   "execution_count": 34,
   "metadata": {},
   "outputs": [
    {
     "data": {
      "image/png": "[encoded data removed]",
      "text/plain": [
       "<Figure size 864x432 with 1 Axes>"
      ]
     },
     "metadata": {
      "needs_background": "light"
     },
     "output_type": "display_data"
    }
   ],
   "source": [
    "ax = df_graph.plot.line(rot=0, figsize=(12,6))\n",
    "ax.set_xlabel('Property in goods (BRL)')\n",
    "ax.set_title('''Candidates NON elected and their property in goods''', fontsize=18)\n",
    "ax.grid(linestyle=':', linewidth='0.5', color='black')\n",
    "ax.xaxis.grid()"
   ]
  },
  {
   "cell_type": "markdown",
   "metadata": {},
   "source": [
    "## ----------------------------------------------------------------------------------------------------------------------------\n",
    "                                    Instruction grade by property in goods\n",
    "## ----------------------------------------------------------------------------------------------------------------------------"
   ]
  },
  {
   "cell_type": "code",
   "execution_count": 35,
   "metadata": {},
   "outputs": [
    {
     "data": {
      "text/plain": [
       "Index(['DT_GERACAO', 'HH_GERACAO', 'ANO_ELEICAO', 'CD_TIPO_ELEICAO',\n",
       "       'NM_TIPO_ELEICAO', 'NR_TURNO', 'CD_ELEICAO', 'DS_ELEICAO', 'DT_ELEICAO',\n",
       "       'TP_ABRANGENCIA', 'SG_UF', 'SG_UE', 'NM_UE', 'CD_CARGO', 'DS_CARGO',\n",
       "       'SQ_CANDIDATO', 'NR_CANDIDATO', 'NM_CANDIDATO', 'NM_URNA_CANDIDATO',\n",
       "       'NM_SOCIAL_CANDIDATO', 'NR_CPF_CANDIDATO', 'NM_EMAIL',\n",
       "       'CD_SITUACAO_CANDIDATURA', 'DS_SITUACAO_CANDIDATURA',\n",
       "       'CD_DETALHE_SITUACAO_CAND', 'DS_DETALHE_SITUACAO_CAND', 'TP_AGREMIACAO',\n",
       "       'NR_PARTIDO', 'SG_PARTIDO', 'NM_PARTIDO', 'SQ_COLIGACAO',\n",
       "       'NM_COLIGACAO', 'DS_COMPOSICAO_COLIGACAO', 'CD_NACIONALIDADE',\n",
       "       'DS_NACIONALIDADE', 'SG_UF_NASCIMENTO', 'CD_MUNICIPIO_NASCIMENTO',\n",
       "       'NM_MUNICIPIO_NASCIMENTO', 'DT_NASCIMENTO', 'NR_IDADE_DATA_POSSE',\n",
       "       'NR_TITULO_ELEITORAL_CANDIDATO', 'CD_GENERO', 'DS_GENERO',\n",
       "       'CD_GRAU_INSTRUCAO', 'DS_GRAU_INSTRUCAO', 'CD_ESTADO_CIVIL',\n",
       "       'DS_ESTADO_CIVIL', 'CD_COR_RACA', 'DS_COR_RACA', 'CD_OCUPACAO',\n",
       "       'DS_OCUPACAO', 'VR_DESPESA_MAX_CAMPANHA', 'CD_SIT_TOT_TURNO',\n",
       "       'DS_SIT_TOT_TURNO', 'ST_REELEICAO', 'ST_DECLARAR_BENS',\n",
       "       'NR_PROTOCOLO_CANDIDATURA', 'NR_PROCESSO',\n",
       "       'CD_SITUACAO_CANDIDATO_PLEITO', 'DS_SITUACAO_CANDIDATO_PLEITO',\n",
       "       'CD_SITUACAO_CANDIDATO_URNA', 'DS_SITUACAO_CANDIDATO_URNA',\n",
       "       'ST_CANDIDATO_INSERIDO_URNA'],\n",
       "      dtype='object')"
      ]
     },
     "execution_count": 35,
     "metadata": {},
     "output_type": "execute_result"
    }
   ],
   "source": [
    "file_candidates_SP.columns"
   ]
  },
  {
   "cell_type": "code",
   "execution_count": 36,
   "metadata": {},
   "outputs": [
    {
     "data": {
      "text/html": [
       "<div>\n",
       "<style scoped>\n",
       "    .dataframe tbody tr th:only-of-type {\n",
       "        vertical-align: middle;\n",
       "    }\n",
       "\n",
       "    .dataframe tbody tr th {\n",
       "        vertical-align: top;\n",
       "    }\n",
       "\n",
       "    .dataframe thead th {\n",
       "        text-align: right;\n",
       "    }\n",
       "</style>\n",
       "<table border=\"1\" class=\"dataframe\">\n",
       "  <thead>\n",
       "    <tr style=\"text-align: right;\">\n",
       "      <th></th>\n",
       "      <th>SQ_CANDIDATO</th>\n",
       "      <th>CD_GRAU_INSTRUCAO</th>\n",
       "    </tr>\n",
       "  </thead>\n",
       "  <tbody>\n",
       "    <tr>\n",
       "      <th>0</th>\n",
       "      <td>250000898255</td>\n",
       "      <td>8</td>\n",
       "    </tr>\n",
       "    <tr>\n",
       "      <th>1</th>\n",
       "      <td>250000764425</td>\n",
       "      <td>6</td>\n",
       "    </tr>\n",
       "    <tr>\n",
       "      <th>...</th>\n",
       "      <td>...</td>\n",
       "      <td>...</td>\n",
       "    </tr>\n",
       "    <tr>\n",
       "      <th>93765</th>\n",
       "      <td>250001117295</td>\n",
       "      <td>3</td>\n",
       "    </tr>\n",
       "    <tr>\n",
       "      <th>93766</th>\n",
       "      <td>250000824829</td>\n",
       "      <td>8</td>\n",
       "    </tr>\n",
       "  </tbody>\n",
       "</table>\n",
       "<p>93767 rows × 2 columns</p>\n",
       "</div>"
      ],
      "text/plain": [
       "       SQ_CANDIDATO  CD_GRAU_INSTRUCAO\n",
       "0      250000898255                  8\n",
       "1      250000764425                  6\n",
       "...             ...                ...\n",
       "93765  250001117295                  3\n",
       "93766  250000824829                  8\n",
       "\n",
       "[93767 rows x 2 columns]"
      ]
     },
     "execution_count": 36,
     "metadata": {},
     "output_type": "execute_result"
    }
   ],
   "source": [
    "df_instruction_BA = file_candidates_BA[['SQ_CANDIDATO', 'CD_GRAU_INSTRUCAO']]\n",
    "df_instruction_BA\n",
    "\n",
    "df_instruction_GO = file_candidates_GO[['SQ_CANDIDATO', 'CD_GRAU_INSTRUCAO']]\n",
    "df_instruction_GO\n",
    "\n",
    "df_instruction_SP = file_candidates_SP[['SQ_CANDIDATO', 'CD_GRAU_INSTRUCAO']]\n",
    "df_instruction_SP\n"
   ]
  },
  {
   "cell_type": "code",
   "execution_count": 37,
   "metadata": {},
   "outputs": [
    {
     "data": {
      "text/html": [
       "<div>\n",
       "<style scoped>\n",
       "    .dataframe tbody tr th:only-of-type {\n",
       "        vertical-align: middle;\n",
       "    }\n",
       "\n",
       "    .dataframe tbody tr th {\n",
       "        vertical-align: top;\n",
       "    }\n",
       "\n",
       "    .dataframe thead th {\n",
       "        text-align: right;\n",
       "    }\n",
       "</style>\n",
       "<table border=\"1\" class=\"dataframe\">\n",
       "  <thead>\n",
       "    <tr style=\"text-align: right;\">\n",
       "      <th></th>\n",
       "      <th>BA</th>\n",
       "      <th>GO</th>\n",
       "      <th>SP</th>\n",
       "    </tr>\n",
       "  </thead>\n",
       "  <tbody>\n",
       "    <tr>\n",
       "      <th>10000</th>\n",
       "      <td>5.586751</td>\n",
       "      <td>5.914286</td>\n",
       "      <td>6.099119</td>\n",
       "    </tr>\n",
       "    <tr>\n",
       "      <th>100000</th>\n",
       "      <td>5.716636</td>\n",
       "      <td>6.040057</td>\n",
       "      <td>6.296708</td>\n",
       "    </tr>\n",
       "    <tr>\n",
       "      <th>1000000</th>\n",
       "      <td>6.045746</td>\n",
       "      <td>6.226891</td>\n",
       "      <td>6.640855</td>\n",
       "    </tr>\n",
       "    <tr>\n",
       "      <th>10000000</th>\n",
       "      <td>6.615000</td>\n",
       "      <td>6.647059</td>\n",
       "      <td>7.179856</td>\n",
       "    </tr>\n",
       "    <tr>\n",
       "      <th>100000000</th>\n",
       "      <td>5.500000</td>\n",
       "      <td>6.583333</td>\n",
       "      <td>7.066667</td>\n",
       "    </tr>\n",
       "  </tbody>\n",
       "</table>\n",
       "</div>"
      ],
      "text/plain": [
       "                 BA        GO        SP\n",
       "10000      5.586751  5.914286  6.099119\n",
       "100000     5.716636  6.040057  6.296708\n",
       "1000000    6.045746  6.226891  6.640855\n",
       "10000000   6.615000  6.647059  7.179856\n",
       "100000000  5.500000  6.583333  7.066667"
      ]
     },
     "execution_count": 37,
     "metadata": {},
     "output_type": "execute_result"
    }
   ],
   "source": [
    "BA_4x0 = df_instruction_BA[df_instruction_BA.SQ_CANDIDATO.isin(df_goods_electeds_BA.query(\"VR_BEM_CANDIDATO <= 10000\").index)]\n",
    "BA_5x0 = df_instruction_BA[df_instruction_BA.SQ_CANDIDATO.isin(df_goods_electeds_BA.query(\"10000 <= VR_BEM_CANDIDATO <= 100000.0\").index)]\n",
    "BA_6x0 = df_instruction_BA[df_instruction_BA.SQ_CANDIDATO.isin(df_goods_electeds_BA.query(\"100000 <= VR_BEM_CANDIDATO <= 1000000.0\").index)]\n",
    "BA_7x0 = df_instruction_BA[df_instruction_BA.SQ_CANDIDATO.isin(df_goods_electeds_BA.query(\"1000000 <= VR_BEM_CANDIDATO <= 10000000.0\").index)]\n",
    "BA_8x0 = df_instruction_BA[df_instruction_BA.SQ_CANDIDATO.isin(df_goods_electeds_BA.query(\"10000000 <= VR_BEM_CANDIDATO <= 100000000.0\").index)]\n",
    "\n",
    "GO_4x0 = df_instruction_GO[df_instruction_GO.SQ_CANDIDATO.isin(df_goods_electeds_GO.query(\"VR_BEM_CANDIDATO <= 10000\").index)]\n",
    "GO_5x0 = df_instruction_GO[df_instruction_GO.SQ_CANDIDATO.isin(df_goods_electeds_GO.query(\"10000 <= VR_BEM_CANDIDATO <= 100000.0\").index)]\n",
    "GO_6x0 = df_instruction_GO[df_instruction_GO.SQ_CANDIDATO.isin(df_goods_electeds_GO.query(\"100000 <= VR_BEM_CANDIDATO <= 1000000.0\").index)]\n",
    "GO_7x0 = df_instruction_GO[df_instruction_GO.SQ_CANDIDATO.isin(df_goods_electeds_GO.query(\"1000000 <= VR_BEM_CANDIDATO <= 10000000.0\").index)]\n",
    "GO_8x0 = df_instruction_GO[df_instruction_GO.SQ_CANDIDATO.isin(df_goods_electeds_GO.query(\"10000000 <= VR_BEM_CANDIDATO <= 100000000.0\").index)]\n",
    "\n",
    "SP_4x0 = df_instruction_SP[df_instruction_SP.SQ_CANDIDATO.isin(df_goods_electeds_SP.query(\"VR_BEM_CANDIDATO <= 10000\").index)]\n",
    "SP_5x0 = df_instruction_SP[df_instruction_SP.SQ_CANDIDATO.isin(df_goods_electeds_SP.query(\"10000 <= VR_BEM_CANDIDATO <= 100000.0\").index)]\n",
    "SP_6x0 = df_instruction_SP[df_instruction_SP.SQ_CANDIDATO.isin(df_goods_electeds_SP.query(\"100000 <= VR_BEM_CANDIDATO <= 1000000.0\").index)]\n",
    "SP_7x0 = df_instruction_SP[df_instruction_SP.SQ_CANDIDATO.isin(df_goods_electeds_SP.query(\"1000000 <= VR_BEM_CANDIDATO <= 10000000.0\").index)]\n",
    "SP_8x0 = df_instruction_SP[df_instruction_SP.SQ_CANDIDATO.isin(df_goods_electeds_SP.query(\"10000000 <= VR_BEM_CANDIDATO <= 100000000.0\").index)]\n",
    "\n",
    "graph_BA = [BA_4x0[\"CD_GRAU_INSTRUCAO\"].values.mean(), \n",
    "            BA_5x0[\"CD_GRAU_INSTRUCAO\"].values.mean(), \n",
    "            BA_6x0[\"CD_GRAU_INSTRUCAO\"].values.mean(), \n",
    "            BA_7x0[\"CD_GRAU_INSTRUCAO\"].values.mean(), \n",
    "            BA_8x0[\"CD_GRAU_INSTRUCAO\"].values.mean()]\n",
    "\n",
    "graph_GO = [GO_4x0[\"CD_GRAU_INSTRUCAO\"].values.mean(), \n",
    "            GO_5x0[\"CD_GRAU_INSTRUCAO\"].values.mean(), \n",
    "            GO_6x0[\"CD_GRAU_INSTRUCAO\"].values.mean(), \n",
    "            GO_7x0[\"CD_GRAU_INSTRUCAO\"].values.mean(), \n",
    "            GO_8x0[\"CD_GRAU_INSTRUCAO\"].values.mean()]\n",
    "\n",
    "graph_SP = [SP_4x0[\"CD_GRAU_INSTRUCAO\"].values.mean(), \n",
    "            SP_5x0[\"CD_GRAU_INSTRUCAO\"].values.mean(), \n",
    "            SP_6x0[\"CD_GRAU_INSTRUCAO\"].values.mean(), \n",
    "            SP_7x0[\"CD_GRAU_INSTRUCAO\"].values.mean(), \n",
    "            SP_8x0[\"CD_GRAU_INSTRUCAO\"].values.mean()]\n",
    "\n",
    "df_graph = pd.DataFrame({'BA': graph_BA, 'GO': graph_GO, 'SP': graph_SP}, \n",
    "                      index=['10000','100000','1000000', '10000000', '100000000'])\n",
    "df_graph"
   ]
  },
  {
   "cell_type": "code",
   "execution_count": 38,
   "metadata": {},
   "outputs": [
    {
     "data": {
      "image/png": "[encoded data removed]",
      "text/plain": [
       "<Figure size 864x432 with 1 Axes>"
      ]
     },
     "metadata": {
      "needs_background": "light"
     },
     "output_type": "display_data"
    }
   ],
   "source": [
    "ax = df_graph.plot.line(rot=0, figsize=(12,6))\n",
    "ax.set_xlabel('Property in goods (BRL)')\n",
    "ax.set_title('''Mean instruction grade of elected candidates and their property in goods\n",
    "1 = illiterate 8= Graduated''', fontsize=18)\n",
    "ax.grid(linestyle=':', linewidth='0.5', color='black')\n",
    "ax.xaxis.grid()"
   ]
  },
  {
   "cell_type": "code",
   "execution_count": 39,
   "metadata": {},
   "outputs": [
    {
     "data": {
      "text/html": [
       "<div>\n",
       "<style scoped>\n",
       "    .dataframe tbody tr th:only-of-type {\n",
       "        vertical-align: middle;\n",
       "    }\n",
       "\n",
       "    .dataframe tbody tr th {\n",
       "        vertical-align: top;\n",
       "    }\n",
       "\n",
       "    .dataframe thead th {\n",
       "        text-align: right;\n",
       "    }\n",
       "</style>\n",
       "<table border=\"1\" class=\"dataframe\">\n",
       "  <thead>\n",
       "    <tr style=\"text-align: right;\">\n",
       "      <th></th>\n",
       "      <th>BA</th>\n",
       "      <th>GO</th>\n",
       "      <th>SP</th>\n",
       "    </tr>\n",
       "  </thead>\n",
       "  <tbody>\n",
       "    <tr>\n",
       "      <th>10000</th>\n",
       "      <td>5.476861</td>\n",
       "      <td>5.479487</td>\n",
       "      <td>5.787644</td>\n",
       "    </tr>\n",
       "    <tr>\n",
       "      <th>100000</th>\n",
       "      <td>5.615905</td>\n",
       "      <td>5.715657</td>\n",
       "      <td>5.975606</td>\n",
       "    </tr>\n",
       "    <tr>\n",
       "      <th>1000000</th>\n",
       "      <td>6.011763</td>\n",
       "      <td>6.042969</td>\n",
       "      <td>6.265156</td>\n",
       "    </tr>\n",
       "    <tr>\n",
       "      <th>10000000</th>\n",
       "      <td>6.737945</td>\n",
       "      <td>6.553055</td>\n",
       "      <td>7.066806</td>\n",
       "    </tr>\n",
       "    <tr>\n",
       "      <th>100000000</th>\n",
       "      <td>6.769231</td>\n",
       "      <td>6.054054</td>\n",
       "      <td>7.140000</td>\n",
       "    </tr>\n",
       "  </tbody>\n",
       "</table>\n",
       "</div>"
      ],
      "text/plain": [
       "                 BA        GO        SP\n",
       "10000      5.476861  5.479487  5.787644\n",
       "100000     5.615905  5.715657  5.975606\n",
       "1000000    6.011763  6.042969  6.265156\n",
       "10000000   6.737945  6.553055  7.066806\n",
       "100000000  6.769231  6.054054  7.140000"
      ]
     },
     "execution_count": 39,
     "metadata": {},
     "output_type": "execute_result"
    }
   ],
   "source": [
    "BA_4x0 = df_instruction_BA[df_instruction_BA.SQ_CANDIDATO.isin(df_goods_nonelecteds_BA.query(\"VR_BEM_CANDIDATO <= 10000\").index)]\n",
    "BA_5x0 = df_instruction_BA[df_instruction_BA.SQ_CANDIDATO.isin(df_goods_nonelecteds_BA.query(\"10000 <= VR_BEM_CANDIDATO <= 100000.0\").index)]\n",
    "BA_6x0 = df_instruction_BA[df_instruction_BA.SQ_CANDIDATO.isin(df_goods_nonelecteds_BA.query(\"100000 <= VR_BEM_CANDIDATO <= 1000000.0\").index)]\n",
    "BA_7x0 = df_instruction_BA[df_instruction_BA.SQ_CANDIDATO.isin(df_goods_nonelecteds_BA.query(\"1000000 <= VR_BEM_CANDIDATO <= 10000000.0\").index)]\n",
    "BA_8x0 = df_instruction_BA[df_instruction_BA.SQ_CANDIDATO.isin(df_goods_nonelecteds_BA.query(\"10000000 <= VR_BEM_CANDIDATO <= 100000000.0\").index)]\n",
    "\n",
    "GO_4x0 = df_instruction_GO[df_instruction_GO.SQ_CANDIDATO.isin(df_goods_nonelecteds_GO.query(\"VR_BEM_CANDIDATO <= 10000\").index)]\n",
    "GO_5x0 = df_instruction_GO[df_instruction_GO.SQ_CANDIDATO.isin(df_goods_nonelecteds_GO.query(\"10000 <= VR_BEM_CANDIDATO <= 100000.0\").index)]\n",
    "GO_6x0 = df_instruction_GO[df_instruction_GO.SQ_CANDIDATO.isin(df_goods_nonelecteds_GO.query(\"100000 <= VR_BEM_CANDIDATO <= 1000000.0\").index)]\n",
    "GO_7x0 = df_instruction_GO[df_instruction_GO.SQ_CANDIDATO.isin(df_goods_nonelecteds_GO.query(\"1000000 <= VR_BEM_CANDIDATO <= 10000000.0\").index)]\n",
    "GO_8x0 = df_instruction_GO[df_instruction_GO.SQ_CANDIDATO.isin(df_goods_nonelecteds_GO.query(\"10000000 <= VR_BEM_CANDIDATO <= 100000000.0\").index)]\n",
    "\n",
    "SP_4x0 = df_instruction_SP[df_instruction_SP.SQ_CANDIDATO.isin(df_goods_nonelecteds_SP.query(\"VR_BEM_CANDIDATO <= 10000\").index)]\n",
    "SP_5x0 = df_instruction_SP[df_instruction_SP.SQ_CANDIDATO.isin(df_goods_nonelecteds_SP.query(\"10000 <= VR_BEM_CANDIDATO <= 100000.0\").index)]\n",
    "SP_6x0 = df_instruction_SP[df_instruction_SP.SQ_CANDIDATO.isin(df_goods_nonelecteds_SP.query(\"100000 <= VR_BEM_CANDIDATO <= 1000000.0\").index)]\n",
    "SP_7x0 = df_instruction_SP[df_instruction_SP.SQ_CANDIDATO.isin(df_goods_nonelecteds_SP.query(\"1000000 <= VR_BEM_CANDIDATO <= 10000000.0\").index)]\n",
    "SP_8x0 = df_instruction_SP[df_instruction_SP.SQ_CANDIDATO.isin(df_goods_nonelecteds_SP.query(\"10000000 <= VR_BEM_CANDIDATO <= 100000000.0\").index)]\n",
    "\n",
    "graph_BA = [BA_4x0[\"CD_GRAU_INSTRUCAO\"].values.mean(), \n",
    "            BA_5x0[\"CD_GRAU_INSTRUCAO\"].values.mean(), \n",
    "            BA_6x0[\"CD_GRAU_INSTRUCAO\"].values.mean(), \n",
    "            BA_7x0[\"CD_GRAU_INSTRUCAO\"].values.mean(), \n",
    "            BA_8x0[\"CD_GRAU_INSTRUCAO\"].values.mean()]\n",
    "\n",
    "graph_GO = [GO_4x0[\"CD_GRAU_INSTRUCAO\"].values.mean(), \n",
    "            GO_5x0[\"CD_GRAU_INSTRUCAO\"].values.mean(), \n",
    "            GO_6x0[\"CD_GRAU_INSTRUCAO\"].values.mean(), \n",
    "            GO_7x0[\"CD_GRAU_INSTRUCAO\"].values.mean(), \n",
    "            GO_8x0[\"CD_GRAU_INSTRUCAO\"].values.mean()]\n",
    "\n",
    "graph_SP = [SP_4x0[\"CD_GRAU_INSTRUCAO\"].values.mean(), \n",
    "            SP_5x0[\"CD_GRAU_INSTRUCAO\"].values.mean(), \n",
    "            SP_6x0[\"CD_GRAU_INSTRUCAO\"].values.mean(), \n",
    "            SP_7x0[\"CD_GRAU_INSTRUCAO\"].values.mean(), \n",
    "            SP_8x0[\"CD_GRAU_INSTRUCAO\"].values.mean()]\n",
    "\n",
    "df_graph = pd.DataFrame({'BA': graph_BA, 'GO': graph_GO, 'SP': graph_SP}, \n",
    "                      index=['10000','100000','1000000', '10000000', '100000000'])\n",
    "df_graph"
   ]
  },
  {
   "cell_type": "code",
   "execution_count": 40,
   "metadata": {},
   "outputs": [
    {
     "data": {
      "image/png": "[encoded data removed]",
      "text/plain": [
       "<Figure size 864x432 with 1 Axes>"
      ]
     },
     "metadata": {
      "needs_background": "light"
     },
     "output_type": "display_data"
    }
   ],
   "source": [
    "ax = df_graph.plot.line(rot=0, figsize=(12,6))\n",
    "ax.set_xlabel('Property in goods (BRL)')\n",
    "ax.set_title('''Mean instruction grade of NON elected candidates and their property in goods\n",
    "1 = illiterate 8= Graduated''', fontsize=18)\n",
    "ax.grid(linestyle=':', linewidth='0.5', color='black')\n",
    "ax.xaxis.grid()"
   ]
  }
 ],
 "metadata": {
  "kernelspec": {
   "display_name": "Python 3",
   "language": "python",
   "name": "python3"
  },
  "language_info": {
   "codemirror_mode": {
    "name": "ipython",
    "version": 3
   },
   "file_extension": ".py",
   "mimetype": "text/x-python",
   "name": "python",
   "nbconvert_exporter": "python",
   "pygments_lexer": "ipython3",
   "version": "3.9.0"
  }
 },
 "nbformat": 4,
 "nbformat_minor": 4
}
